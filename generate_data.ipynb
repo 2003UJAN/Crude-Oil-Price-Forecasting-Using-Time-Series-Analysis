{
  "cells": [
    {
      "cell_type": "code",
      "source": [
        "import pandas as pd\n",
        "import yfinance as yf\n",
        "from fredapi import Fred\n",
        "from getpass import getpass\n",
        "import os\n"
      ],
      "metadata": {
        "id": "J8udQr1d_RW5"
      },
      "execution_count": 30,
      "outputs": []
    },
    {
      "cell_type": "code",
      "source": [
        "# === Securely input API key ===\n",
        "fred_api_key = getpass(\"\\U0001F511 Enter your FRED API key: \")\n",
        "fred = Fred(api_key=fred_api_key)"
      ],
      "metadata": {
        "id": "BkAFYovH_R_W",
        "outputId": "b733ca1f-d877-402a-f588-e3d5b0f55d88",
        "colab": {
          "base_uri": "https://localhost:8080/"
        }
      },
      "execution_count": 31,
      "outputs": [
        {
          "name": "stdout",
          "output_type": "stream",
          "text": [
            "🔑 Enter your FRED API key: ··········\n"
          ]
        }
      ]
    },
    {
      "cell_type": "code",
      "source": [
        "# === Download crude oil price data ===\n",
        "oil_df = yf.download(\"CL=F\", start=\"2010-01-01\", end=\"2024-12-31\")"
      ],
      "metadata": {
        "id": "rFAcswGF_VQF",
        "outputId": "7a4f4720-67e9-4e0a-baeb-30fa68409d34",
        "colab": {
          "base_uri": "https://localhost:8080/"
        }
      },
      "execution_count": 32,
      "outputs": [
        {
          "output_type": "stream",
          "name": "stderr",
          "text": [
            "\r[*********************100%***********************]  1 of 1 completed\n"
          ]
        }
      ]
    },
    {
      "cell_type": "code",
      "source": [
        "# Use 'Close' if 'Adj Close' is missing\n",
        "if 'Adj Close' not in oil_df.columns:\n",
        "    oil_df['Adj Close'] = oil_df['Close']\n"
      ],
      "metadata": {
        "id": "U_dusmav_Y0I"
      },
      "execution_count": 33,
      "outputs": []
    },
    {
      "cell_type": "code",
      "source": [
        "# Flatten MultiIndex if present\n",
        "oil_df.columns = ['_'.join(col) if isinstance(col, tuple) else col for col in oil_df.columns.values]"
      ],
      "metadata": {
        "id": "iPVpiSg0_a9D"
      },
      "execution_count": 34,
      "outputs": []
    },
    {
      "cell_type": "code",
      "source": [
        "# Reset index and rename columns\n",
        "oil_df = oil_df.reset_index()"
      ],
      "metadata": {
        "id": "i-amN11O_dF3"
      },
      "execution_count": 35,
      "outputs": []
    },
    {
      "cell_type": "code",
      "source": [
        "# Rename column to avoid KeyError in downstream scripts\n",
        "oil_df.rename(columns={'Adj Close_': 'Crude_Oil_Price'}, inplace=True)\n",
        "oil_df['Date'] = pd.to_datetime(oil_df['Date'])\n"
      ],
      "metadata": {
        "id": "p82rh9lZ_fWW"
      },
      "execution_count": 36,
      "outputs": []
    },
    {
      "cell_type": "code",
      "source": [
        "# === Fetch macroeconomic indicators ===\n",
        "# FRED codes: GDP, CPI, UNRATE (unemployment rate), etc.\n",
        "macro_series = {\n",
        "    'GDP': 'GDP',\n",
        "    'CPI': 'CPIAUCSL',\n",
        "    'UNRATE': 'UNRATE'\n",
        "}\n",
        "\n",
        "macro_data = pd.DataFrame()\n",
        "\n",
        "for name, code in macro_series.items():\n",
        "    series = fred.get_series(code)\n",
        "    df = pd.DataFrame(series)\n",
        "    df.reset_index(inplace=True)\n",
        "    df.columns = ['Date', name]\n",
        "    df['Date'] = pd.to_datetime(df['Date'])\n",
        "    if macro_data.empty:\n",
        "        macro_data = df\n",
        "    else:\n",
        "        macro_data = pd.merge(macro_data, df, on='Date', how='outer')"
      ],
      "metadata": {
        "id": "GK58B6E__iKk"
      },
      "execution_count": 37,
      "outputs": []
    },
    {
      "cell_type": "code",
      "source": [
        "# Reset index and ensure flat structure\n",
        "macro_data = macro_data.reset_index(drop=True)"
      ],
      "metadata": {
        "id": "XBZODT2f_kL8"
      },
      "execution_count": 38,
      "outputs": []
    },
    {
      "cell_type": "code",
      "source": [
        "# === Merge datasets ===\n",
        "merged_df = pd.merge(oil_df, macro_data, on='Date', how='inner')\n",
        "merged_df = merged_df.sort_values('Date').reset_index(drop=True)\n"
      ],
      "metadata": {
        "id": "oxzAuZcm_lg4"
      },
      "execution_count": 39,
      "outputs": []
    },
    {
      "cell_type": "code",
      "source": [
        "# === Save the data ===\n",
        "os.makedirs(\"data\", exist_ok=True)\n",
        "merged_df.to_csv(\"crude_oil_macro_data.csv\", index=False)\n",
        "\n",
        "print(\"\\u2705 Data successfully downloaded and saved to crude_oil_macro_data.csv'\")\n"
      ],
      "metadata": {
        "id": "BNzzCfr7_nc2",
        "outputId": "1a4c4b79-7779-4671-971a-134b472978df",
        "colab": {
          "base_uri": "https://localhost:8080/"
        }
      },
      "execution_count": 40,
      "outputs": [
        {
          "output_type": "stream",
          "name": "stdout",
          "text": [
            "✅ Data successfully downloaded and saved to crude_oil_macro_data.csv'\n"
          ]
        }
      ]
    }
  ],
  "metadata": {
    "colab": {
      "name": "Welcome To Colab",
      "provenance": []
    },
    "kernelspec": {
      "display_name": "Python 3",
      "name": "python3"
    }
  },
  "nbformat": 4,
  "nbformat_minor": 0
}